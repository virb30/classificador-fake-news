{
  "nbformat": 4,
  "nbformat_minor": 0,
  "metadata": {
    "colab": {
      "name": "Projeto DSNP 3.0 - Classificador de Fake News",
      "provenance": [],
      "collapsed_sections": [],
      "include_colab_link": true
    },
    "kernelspec": {
      "name": "python3",
      "display_name": "Python 3"
    },
    "accelerator": "GPU"
  },
  "cells": [
    {
      "cell_type": "markdown",
      "metadata": {
        "id": "view-in-github",
        "colab_type": "text"
      },
      "source": [
        "<a href=\"https://colab.research.google.com/github/virb30/classificador-fake-news/blob/main/Projeto_DSNP_3_0_Classificador_de_Fake_News.ipynb\" target=\"_parent\"><img src=\"https://colab.research.google.com/assets/colab-badge.svg\" alt=\"Open In Colab\"/></a>"
      ]
    },
    {
      "cell_type": "markdown",
      "metadata": {
        "id": "RkaoEbgL_mg6"
      },
      "source": [
        "---\n",
        "<img alt=\"Colaboratory logo\" width=\"15%\" src=\"https://raw.githubusercontent.com/carlosfab/escola-data-science/master/img/novo_logo_bg_claro.png\">\n",
        "\n",
        "#### **Data Science na Prática 3.0**\n",
        "*by [sigmoidal.ai](https://sigmoidal.ai)*  \n",
        "\n",
        "---"
      ]
    },
    {
      "cell_type": "markdown",
      "metadata": {
        "id": "Y3VTmFDs_3AM"
      },
      "source": [
        "# Classificador de Fake News\n",
        "\n",
        "\n",
        "Vivemos na era digital, onde a informação está mais acessível do que nunca, e continua ficando cada vez mais acessível, de forma mais ágil e ampla.\n",
        "\n",
        "Apesar dos benefícios que isso traz, também existem problemas e riscos com isso. Aqui, vamos nos preocupar com um dos maiores deles: ***Fake News***\n",
        "<p align=center>\n",
        "  <img src=\"https://image.freepik.com/free-photo/woman-reading-newspaper_53876-13446.jpg\" height=\"30%\">\n",
        "</p>\n",
        "\n",
        "Com certeza você já se deparou com uma dessas. Em uma era de informação, a desinformação acaba sendo o nosso maior problema.\n",
        "\n",
        "Em suma, ***Fake News*** são, como a tradução literal sugere, Notícias Falsas. Elas podem ir desde um número diferente em uma estatística apresentada, até a notícia de uma acontecimento completamente falso.\n",
        "\n"
      ]
    },
    {
      "cell_type": "markdown",
      "metadata": {
        "id": "CKgjDgkbTMLL"
      },
      "source": [
        "## Como isso influencia nossa vida?\n",
        "\n",
        "Como de costume, nós tendemos a acreditar nos grandes veículos de mídia, ou de pessoas do nosso ciclo de amigos que nos encaminham notícias em redes sociais. Dessa forma, criamos o hábito de não checar nossas fontes, e assim, acreditamos e disseminamos notícias falsas, às vezes sem nem saber.\n",
        "\n",
        "Isso se torna um grande problema quando afeta o resultado de algo importante no bem comum de nossa sociedade, como resultados de eleições, opinião pública sobre determinados projetos, políticas públicas, e até pessoas públicas, sejam elas do meio político, artístico, jornalístico, ou qualquer outro."
      ]
    },
    {
      "cell_type": "markdown",
      "metadata": {
        "id": "dXTHFaBnTtxq"
      },
      "source": [
        "## O Projeto\n",
        "\n",
        "Hoje em dia, podemos contar com ferramentas que nos ajudem a identificar e filtrar notícias falsas. Com técnicas de *Machine Learning* como **Redes Neurais** essa tarefa de vasculhar diversas fontes de notícias para descobrir o que é falso e o que é factual fica mais fácil.\n",
        "\n",
        "> O objetivo do projeto é treinar um modelo que seja capaz de classificar notícias, com a melhor acurácia possível, entre falsas ou factuais.\n",
        "\n",
        "Para isso, usaremos a biblioteca ***Tensorflow*** para treinar Redes Neurais que façam esse trabalho por nós.\n",
        "\n",
        "Utilizaremos o FakeRecogna dataset, um projeto brasileiro que compila uma série de notícias reais e fakes disponível em: https://github.com/Gabriel-Lino-Garcia/FakeRecogna"
      ]
    },
    {
      "cell_type": "code",
      "metadata": {
        "id": "zb0mFDoc4ftY"
      },
      "source": [
        "# importando os pacotes necessarios\n",
        "import pandas as pd\n",
        "import numpy as np\n",
        "import matplotlib.pyplot as plt\n",
        "import seaborn as sns\n",
        "%tensorflow_version 2.x\n",
        "import tensorflow as tf\n",
        "from tensorflow import keras\n",
        "\n",
        "# configurando o noteebook\n",
        "np.random.seed(42)\n",
        "sns.set_style()\n",
        "\n",
        "# filtrar mensagens de warning\n",
        "import warnings\n",
        "warnings.filterwarnings('ignore')"
      ],
      "execution_count": 19,
      "outputs": []
    },
    {
      "cell_type": "code",
      "metadata": {
        "id": "jPnyxQqJO4dF",
        "colab": {
          "base_uri": "https://localhost:8080/",
          "height": 224
        },
        "outputId": "72c0b36d-748c-4227-bd84-d4c782ca4900"
      },
      "source": [
        "# carregando e verificando os dados\n",
        "DATASET = 'https://github.com/Gabriel-Lino-Garcia/FakeRecogna/raw/master/dataset/FakeRecogna.xlsx'\n",
        "df = pd.read_excel(DATASET)\n",
        "\n",
        "print(df.shape)\n",
        "df.head()"
      ],
      "execution_count": 20,
      "outputs": [
        {
          "output_type": "stream",
          "name": "stdout",
          "text": [
            "(11903, 8)\n"
          ]
        },
        {
          "output_type": "execute_result",
          "data": {
            "text/plain": [
              "                                              Titulo  \\\n",
              "0  \\n\\nPapa Francisco foi preso sob acusação de t...   \n",
              "1  Equador prepara cova coletiva para mortos por ...   \n",
              "2  Air France voltará a operar voo direto Pequim-...   \n",
              "3  Marfrig intensifica venda de carne do Brasil a...   \n",
              "4  As parciais das eleições de 2014 alternaram ma...   \n",
              "\n",
              "                                           Subtitulo  \\\n",
              "0  Boato – Ocorreu um apagão no Vaticano. O papa ...   \n",
              "1                                                NaN   \n",
              "2                                                NaN   \n",
              "3                                                NaN   \n",
              "4                                                NaN   \n",
              "\n",
              "                                             Noticia       Categoria  \\\n",
              "0  apagão vaticano papar presar acusação tráfico ...  entretenimento   \n",
              "1  o governar equador anunciar preparar cova cole...           saúde   \n",
              "2  o companhia air france operar voar direto pequ...           saúde   \n",
              "3  o marfrig global foods retomar vender carnar b...           saúde   \n",
              "4  o assunto voltar o compartilhar rede social ju...  entretenimento   \n",
              "\n",
              "                Data              Autor  \\\n",
              "0         11/01/2021  \\nEdgard Matsuki    \n",
              "1  27/03/2020 18h25   27/03/2020 18h25    \n",
              "2  07/08/2020 13h42   07/08/2020 13h42    \n",
              "3  27/04/2020 14h53   27/04/2020 14h53    \n",
              "4         31/07/2021       Gilmar Lopes   \n",
              "\n",
              "                                                 URL  Classe  \n",
              "0  https://www.boatos.org/religiao/papa-francisco...     0.0  \n",
              "1  https://noticias.uol.com.br/internacional/ulti...     1.0  \n",
              "2  https://www.uol.com.br/nossa/noticias/afp/2020...     1.0  \n",
              "3  https://economia.uol.com.br/noticias/reuters/2...     1.0  \n",
              "4  https://www.e-farsas.com/as-parciais-das-eleic...     0.0  "
            ],
            "text/html": [
              "\n",
              "  <div id=\"df-2131570e-d4a3-417c-9c7c-ef391595bb25\">\n",
              "    <div class=\"colab-df-container\">\n",
              "      <div>\n",
              "<style scoped>\n",
              "    .dataframe tbody tr th:only-of-type {\n",
              "        vertical-align: middle;\n",
              "    }\n",
              "\n",
              "    .dataframe tbody tr th {\n",
              "        vertical-align: top;\n",
              "    }\n",
              "\n",
              "    .dataframe thead th {\n",
              "        text-align: right;\n",
              "    }\n",
              "</style>\n",
              "<table border=\"1\" class=\"dataframe\">\n",
              "  <thead>\n",
              "    <tr style=\"text-align: right;\">\n",
              "      <th></th>\n",
              "      <th>Titulo</th>\n",
              "      <th>Subtitulo</th>\n",
              "      <th>Noticia</th>\n",
              "      <th>Categoria</th>\n",
              "      <th>Data</th>\n",
              "      <th>Autor</th>\n",
              "      <th>URL</th>\n",
              "      <th>Classe</th>\n",
              "    </tr>\n",
              "  </thead>\n",
              "  <tbody>\n",
              "    <tr>\n",
              "      <th>0</th>\n",
              "      <td>\\n\\nPapa Francisco foi preso sob acusação de t...</td>\n",
              "      <td>Boato – Ocorreu um apagão no Vaticano. O papa ...</td>\n",
              "      <td>apagão vaticano papar presar acusação tráfico ...</td>\n",
              "      <td>entretenimento</td>\n",
              "      <td>11/01/2021</td>\n",
              "      <td>\\nEdgard Matsuki</td>\n",
              "      <td>https://www.boatos.org/religiao/papa-francisco...</td>\n",
              "      <td>0.0</td>\n",
              "    </tr>\n",
              "    <tr>\n",
              "      <th>1</th>\n",
              "      <td>Equador prepara cova coletiva para mortos por ...</td>\n",
              "      <td>NaN</td>\n",
              "      <td>o governar equador anunciar preparar cova cole...</td>\n",
              "      <td>saúde</td>\n",
              "      <td>27/03/2020 18h25</td>\n",
              "      <td>27/03/2020 18h25</td>\n",
              "      <td>https://noticias.uol.com.br/internacional/ulti...</td>\n",
              "      <td>1.0</td>\n",
              "    </tr>\n",
              "    <tr>\n",
              "      <th>2</th>\n",
              "      <td>Air France voltará a operar voo direto Pequim-...</td>\n",
              "      <td>NaN</td>\n",
              "      <td>o companhia air france operar voar direto pequ...</td>\n",
              "      <td>saúde</td>\n",
              "      <td>07/08/2020 13h42</td>\n",
              "      <td>07/08/2020 13h42</td>\n",
              "      <td>https://www.uol.com.br/nossa/noticias/afp/2020...</td>\n",
              "      <td>1.0</td>\n",
              "    </tr>\n",
              "    <tr>\n",
              "      <th>3</th>\n",
              "      <td>Marfrig intensifica venda de carne do Brasil a...</td>\n",
              "      <td>NaN</td>\n",
              "      <td>o marfrig global foods retomar vender carnar b...</td>\n",
              "      <td>saúde</td>\n",
              "      <td>27/04/2020 14h53</td>\n",
              "      <td>27/04/2020 14h53</td>\n",
              "      <td>https://economia.uol.com.br/noticias/reuters/2...</td>\n",
              "      <td>1.0</td>\n",
              "    </tr>\n",
              "    <tr>\n",
              "      <th>4</th>\n",
              "      <td>As parciais das eleições de 2014 alternaram ma...</td>\n",
              "      <td>NaN</td>\n",
              "      <td>o assunto voltar o compartilhar rede social ju...</td>\n",
              "      <td>entretenimento</td>\n",
              "      <td>31/07/2021</td>\n",
              "      <td>Gilmar Lopes</td>\n",
              "      <td>https://www.e-farsas.com/as-parciais-das-eleic...</td>\n",
              "      <td>0.0</td>\n",
              "    </tr>\n",
              "  </tbody>\n",
              "</table>\n",
              "</div>\n",
              "      <button class=\"colab-df-convert\" onclick=\"convertToInteractive('df-2131570e-d4a3-417c-9c7c-ef391595bb25')\"\n",
              "              title=\"Convert this dataframe to an interactive table.\"\n",
              "              style=\"display:none;\">\n",
              "        \n",
              "  <svg xmlns=\"http://www.w3.org/2000/svg\" height=\"24px\"viewBox=\"0 0 24 24\"\n",
              "       width=\"24px\">\n",
              "    <path d=\"M0 0h24v24H0V0z\" fill=\"none\"/>\n",
              "    <path d=\"M18.56 5.44l.94 2.06.94-2.06 2.06-.94-2.06-.94-.94-2.06-.94 2.06-2.06.94zm-11 1L8.5 8.5l.94-2.06 2.06-.94-2.06-.94L8.5 2.5l-.94 2.06-2.06.94zm10 10l.94 2.06.94-2.06 2.06-.94-2.06-.94-.94-2.06-.94 2.06-2.06.94z\"/><path d=\"M17.41 7.96l-1.37-1.37c-.4-.4-.92-.59-1.43-.59-.52 0-1.04.2-1.43.59L10.3 9.45l-7.72 7.72c-.78.78-.78 2.05 0 2.83L4 21.41c.39.39.9.59 1.41.59.51 0 1.02-.2 1.41-.59l7.78-7.78 2.81-2.81c.8-.78.8-2.07 0-2.86zM5.41 20L4 18.59l7.72-7.72 1.47 1.35L5.41 20z\"/>\n",
              "  </svg>\n",
              "      </button>\n",
              "      \n",
              "  <style>\n",
              "    .colab-df-container {\n",
              "      display:flex;\n",
              "      flex-wrap:wrap;\n",
              "      gap: 12px;\n",
              "    }\n",
              "\n",
              "    .colab-df-convert {\n",
              "      background-color: #E8F0FE;\n",
              "      border: none;\n",
              "      border-radius: 50%;\n",
              "      cursor: pointer;\n",
              "      display: none;\n",
              "      fill: #1967D2;\n",
              "      height: 32px;\n",
              "      padding: 0 0 0 0;\n",
              "      width: 32px;\n",
              "    }\n",
              "\n",
              "    .colab-df-convert:hover {\n",
              "      background-color: #E2EBFA;\n",
              "      box-shadow: 0px 1px 2px rgba(60, 64, 67, 0.3), 0px 1px 3px 1px rgba(60, 64, 67, 0.15);\n",
              "      fill: #174EA6;\n",
              "    }\n",
              "\n",
              "    [theme=dark] .colab-df-convert {\n",
              "      background-color: #3B4455;\n",
              "      fill: #D2E3FC;\n",
              "    }\n",
              "\n",
              "    [theme=dark] .colab-df-convert:hover {\n",
              "      background-color: #434B5C;\n",
              "      box-shadow: 0px 1px 3px 1px rgba(0, 0, 0, 0.15);\n",
              "      filter: drop-shadow(0px 1px 2px rgba(0, 0, 0, 0.3));\n",
              "      fill: #FFFFFF;\n",
              "    }\n",
              "  </style>\n",
              "\n",
              "      <script>\n",
              "        const buttonEl =\n",
              "          document.querySelector('#df-2131570e-d4a3-417c-9c7c-ef391595bb25 button.colab-df-convert');\n",
              "        buttonEl.style.display =\n",
              "          google.colab.kernel.accessAllowed ? 'block' : 'none';\n",
              "\n",
              "        async function convertToInteractive(key) {\n",
              "          const element = document.querySelector('#df-2131570e-d4a3-417c-9c7c-ef391595bb25');\n",
              "          const dataTable =\n",
              "            await google.colab.kernel.invokeFunction('convertToInteractive',\n",
              "                                                     [key], {});\n",
              "          if (!dataTable) return;\n",
              "\n",
              "          const docLinkHtml = 'Like what you see? Visit the ' +\n",
              "            '<a target=\"_blank\" href=https://colab.research.google.com/notebooks/data_table.ipynb>data table notebook</a>'\n",
              "            + ' to learn more about interactive tables.';\n",
              "          element.innerHTML = '';\n",
              "          dataTable['output_type'] = 'display_data';\n",
              "          await google.colab.output.renderOutput(dataTable, element);\n",
              "          const docLink = document.createElement('div');\n",
              "          docLink.innerHTML = docLinkHtml;\n",
              "          element.appendChild(docLink);\n",
              "        }\n",
              "      </script>\n",
              "    </div>\n",
              "  </div>\n",
              "  "
            ]
          },
          "metadata": {},
          "execution_count": 20
        }
      ]
    },
    {
      "cell_type": "markdown",
      "metadata": {
        "id": "OnQFYEpbFpzx"
      },
      "source": [
        "### Os Dados\n",
        "Segundo a documentação, nosso conjunto de dados possui quase 12 mil linhas e 8 colunas, das quais temos:\n",
        "\n",
        "* `Titulo` - Título da notícia\n",
        "* `Subtitulo` - Subtítulo da notícia\n",
        "* `Noticia` - Texto da notícia\n",
        "* `Categoria` - Categoria da notícia\n",
        "* `Data` - Data em que foi publicada\n",
        "* `Autor` - Autor da notícia\n",
        "* `URL` - Site da notícia\n",
        "* `Classe` que é nossa variável alvo e está dividida em:\n",
        "  * 0 - Notícia Fake\n",
        "  * 1 - Notícia Real\n",
        "\n",
        "\n",
        "As categorias das notícias estão dividias em:\n",
        "* Brazil\n",
        "* Entertainment\n",
        "* Health\n",
        "* Politics\n",
        "* Science\n",
        "* World\n",
        "\n",
        "Dessas categorias as que mais aparecem são `Health`e `Politics`."
      ]
    },
    {
      "cell_type": "markdown",
      "metadata": {
        "id": "FjlQlU8xFQbe"
      },
      "source": [
        "### Tratando os Dados\n",
        "\n",
        "Aqui, estamos lidando com nossa linguagem natural em formato de `string`, então precisamos de alguns conhecimentos de NLP para tratar esses dados da melhor forma, para que possam ser passados ao nosso modelo com sucesso, e dessa forma, obtermos os resultados que desejamos."
      ]
    },
    {
      "cell_type": "code",
      "metadata": {
        "id": "hFew55ZhZBwG",
        "colab": {
          "base_uri": "https://localhost:8080/",
          "height": 206
        },
        "outputId": "4f87a26c-c883-44d2-8cee-b9df9782631a"
      },
      "source": [
        "# tratando do texto das notícias\n",
        "import string\n",
        "def clean_text(text):\n",
        "    words = str(text).lower()\n",
        "    words = words.translate(words.maketrans('', '', string.punctuation))\n",
        "    return words\n",
        "\n",
        "df['Noticia'] = df['Noticia'].apply(clean_text)\n",
        "df.head()"
      ],
      "execution_count": 21,
      "outputs": [
        {
          "output_type": "execute_result",
          "data": {
            "text/plain": [
              "                                              Titulo  \\\n",
              "0  \\n\\nPapa Francisco foi preso sob acusação de t...   \n",
              "1  Equador prepara cova coletiva para mortos por ...   \n",
              "2  Air France voltará a operar voo direto Pequim-...   \n",
              "3  Marfrig intensifica venda de carne do Brasil a...   \n",
              "4  As parciais das eleições de 2014 alternaram ma...   \n",
              "\n",
              "                                           Subtitulo  \\\n",
              "0  Boato – Ocorreu um apagão no Vaticano. O papa ...   \n",
              "1                                                NaN   \n",
              "2                                                NaN   \n",
              "3                                                NaN   \n",
              "4                                                NaN   \n",
              "\n",
              "                                             Noticia       Categoria  \\\n",
              "0  apagão vaticano papar presar acusação tráfico ...  entretenimento   \n",
              "1  o governar equador anunciar preparar cova cole...           saúde   \n",
              "2  o companhia air france operar voar direto pequ...           saúde   \n",
              "3  o marfrig global foods retomar vender carnar b...           saúde   \n",
              "4  o assunto voltar o compartilhar rede social ju...  entretenimento   \n",
              "\n",
              "                Data              Autor  \\\n",
              "0         11/01/2021  \\nEdgard Matsuki    \n",
              "1  27/03/2020 18h25   27/03/2020 18h25    \n",
              "2  07/08/2020 13h42   07/08/2020 13h42    \n",
              "3  27/04/2020 14h53   27/04/2020 14h53    \n",
              "4         31/07/2021       Gilmar Lopes   \n",
              "\n",
              "                                                 URL  Classe  \n",
              "0  https://www.boatos.org/religiao/papa-francisco...     0.0  \n",
              "1  https://noticias.uol.com.br/internacional/ulti...     1.0  \n",
              "2  https://www.uol.com.br/nossa/noticias/afp/2020...     1.0  \n",
              "3  https://economia.uol.com.br/noticias/reuters/2...     1.0  \n",
              "4  https://www.e-farsas.com/as-parciais-das-eleic...     0.0  "
            ],
            "text/html": [
              "\n",
              "  <div id=\"df-826325ab-f858-4d58-849c-5eeadbb1aba0\">\n",
              "    <div class=\"colab-df-container\">\n",
              "      <div>\n",
              "<style scoped>\n",
              "    .dataframe tbody tr th:only-of-type {\n",
              "        vertical-align: middle;\n",
              "    }\n",
              "\n",
              "    .dataframe tbody tr th {\n",
              "        vertical-align: top;\n",
              "    }\n",
              "\n",
              "    .dataframe thead th {\n",
              "        text-align: right;\n",
              "    }\n",
              "</style>\n",
              "<table border=\"1\" class=\"dataframe\">\n",
              "  <thead>\n",
              "    <tr style=\"text-align: right;\">\n",
              "      <th></th>\n",
              "      <th>Titulo</th>\n",
              "      <th>Subtitulo</th>\n",
              "      <th>Noticia</th>\n",
              "      <th>Categoria</th>\n",
              "      <th>Data</th>\n",
              "      <th>Autor</th>\n",
              "      <th>URL</th>\n",
              "      <th>Classe</th>\n",
              "    </tr>\n",
              "  </thead>\n",
              "  <tbody>\n",
              "    <tr>\n",
              "      <th>0</th>\n",
              "      <td>\\n\\nPapa Francisco foi preso sob acusação de t...</td>\n",
              "      <td>Boato – Ocorreu um apagão no Vaticano. O papa ...</td>\n",
              "      <td>apagão vaticano papar presar acusação tráfico ...</td>\n",
              "      <td>entretenimento</td>\n",
              "      <td>11/01/2021</td>\n",
              "      <td>\\nEdgard Matsuki</td>\n",
              "      <td>https://www.boatos.org/religiao/papa-francisco...</td>\n",
              "      <td>0.0</td>\n",
              "    </tr>\n",
              "    <tr>\n",
              "      <th>1</th>\n",
              "      <td>Equador prepara cova coletiva para mortos por ...</td>\n",
              "      <td>NaN</td>\n",
              "      <td>o governar equador anunciar preparar cova cole...</td>\n",
              "      <td>saúde</td>\n",
              "      <td>27/03/2020 18h25</td>\n",
              "      <td>27/03/2020 18h25</td>\n",
              "      <td>https://noticias.uol.com.br/internacional/ulti...</td>\n",
              "      <td>1.0</td>\n",
              "    </tr>\n",
              "    <tr>\n",
              "      <th>2</th>\n",
              "      <td>Air France voltará a operar voo direto Pequim-...</td>\n",
              "      <td>NaN</td>\n",
              "      <td>o companhia air france operar voar direto pequ...</td>\n",
              "      <td>saúde</td>\n",
              "      <td>07/08/2020 13h42</td>\n",
              "      <td>07/08/2020 13h42</td>\n",
              "      <td>https://www.uol.com.br/nossa/noticias/afp/2020...</td>\n",
              "      <td>1.0</td>\n",
              "    </tr>\n",
              "    <tr>\n",
              "      <th>3</th>\n",
              "      <td>Marfrig intensifica venda de carne do Brasil a...</td>\n",
              "      <td>NaN</td>\n",
              "      <td>o marfrig global foods retomar vender carnar b...</td>\n",
              "      <td>saúde</td>\n",
              "      <td>27/04/2020 14h53</td>\n",
              "      <td>27/04/2020 14h53</td>\n",
              "      <td>https://economia.uol.com.br/noticias/reuters/2...</td>\n",
              "      <td>1.0</td>\n",
              "    </tr>\n",
              "    <tr>\n",
              "      <th>4</th>\n",
              "      <td>As parciais das eleições de 2014 alternaram ma...</td>\n",
              "      <td>NaN</td>\n",
              "      <td>o assunto voltar o compartilhar rede social ju...</td>\n",
              "      <td>entretenimento</td>\n",
              "      <td>31/07/2021</td>\n",
              "      <td>Gilmar Lopes</td>\n",
              "      <td>https://www.e-farsas.com/as-parciais-das-eleic...</td>\n",
              "      <td>0.0</td>\n",
              "    </tr>\n",
              "  </tbody>\n",
              "</table>\n",
              "</div>\n",
              "      <button class=\"colab-df-convert\" onclick=\"convertToInteractive('df-826325ab-f858-4d58-849c-5eeadbb1aba0')\"\n",
              "              title=\"Convert this dataframe to an interactive table.\"\n",
              "              style=\"display:none;\">\n",
              "        \n",
              "  <svg xmlns=\"http://www.w3.org/2000/svg\" height=\"24px\"viewBox=\"0 0 24 24\"\n",
              "       width=\"24px\">\n",
              "    <path d=\"M0 0h24v24H0V0z\" fill=\"none\"/>\n",
              "    <path d=\"M18.56 5.44l.94 2.06.94-2.06 2.06-.94-2.06-.94-.94-2.06-.94 2.06-2.06.94zm-11 1L8.5 8.5l.94-2.06 2.06-.94-2.06-.94L8.5 2.5l-.94 2.06-2.06.94zm10 10l.94 2.06.94-2.06 2.06-.94-2.06-.94-.94-2.06-.94 2.06-2.06.94z\"/><path d=\"M17.41 7.96l-1.37-1.37c-.4-.4-.92-.59-1.43-.59-.52 0-1.04.2-1.43.59L10.3 9.45l-7.72 7.72c-.78.78-.78 2.05 0 2.83L4 21.41c.39.39.9.59 1.41.59.51 0 1.02-.2 1.41-.59l7.78-7.78 2.81-2.81c.8-.78.8-2.07 0-2.86zM5.41 20L4 18.59l7.72-7.72 1.47 1.35L5.41 20z\"/>\n",
              "  </svg>\n",
              "      </button>\n",
              "      \n",
              "  <style>\n",
              "    .colab-df-container {\n",
              "      display:flex;\n",
              "      flex-wrap:wrap;\n",
              "      gap: 12px;\n",
              "    }\n",
              "\n",
              "    .colab-df-convert {\n",
              "      background-color: #E8F0FE;\n",
              "      border: none;\n",
              "      border-radius: 50%;\n",
              "      cursor: pointer;\n",
              "      display: none;\n",
              "      fill: #1967D2;\n",
              "      height: 32px;\n",
              "      padding: 0 0 0 0;\n",
              "      width: 32px;\n",
              "    }\n",
              "\n",
              "    .colab-df-convert:hover {\n",
              "      background-color: #E2EBFA;\n",
              "      box-shadow: 0px 1px 2px rgba(60, 64, 67, 0.3), 0px 1px 3px 1px rgba(60, 64, 67, 0.15);\n",
              "      fill: #174EA6;\n",
              "    }\n",
              "\n",
              "    [theme=dark] .colab-df-convert {\n",
              "      background-color: #3B4455;\n",
              "      fill: #D2E3FC;\n",
              "    }\n",
              "\n",
              "    [theme=dark] .colab-df-convert:hover {\n",
              "      background-color: #434B5C;\n",
              "      box-shadow: 0px 1px 3px 1px rgba(0, 0, 0, 0.15);\n",
              "      filter: drop-shadow(0px 1px 2px rgba(0, 0, 0, 0.3));\n",
              "      fill: #FFFFFF;\n",
              "    }\n",
              "  </style>\n",
              "\n",
              "      <script>\n",
              "        const buttonEl =\n",
              "          document.querySelector('#df-826325ab-f858-4d58-849c-5eeadbb1aba0 button.colab-df-convert');\n",
              "        buttonEl.style.display =\n",
              "          google.colab.kernel.accessAllowed ? 'block' : 'none';\n",
              "\n",
              "        async function convertToInteractive(key) {\n",
              "          const element = document.querySelector('#df-826325ab-f858-4d58-849c-5eeadbb1aba0');\n",
              "          const dataTable =\n",
              "            await google.colab.kernel.invokeFunction('convertToInteractive',\n",
              "                                                     [key], {});\n",
              "          if (!dataTable) return;\n",
              "\n",
              "          const docLinkHtml = 'Like what you see? Visit the ' +\n",
              "            '<a target=\"_blank\" href=https://colab.research.google.com/notebooks/data_table.ipynb>data table notebook</a>'\n",
              "            + ' to learn more about interactive tables.';\n",
              "          element.innerHTML = '';\n",
              "          dataTable['output_type'] = 'display_data';\n",
              "          await google.colab.output.renderOutput(dataTable, element);\n",
              "          const docLink = document.createElement('div');\n",
              "          docLink.innerHTML = docLinkHtml;\n",
              "          element.appendChild(docLink);\n",
              "        }\n",
              "      </script>\n",
              "    </div>\n",
              "  </div>\n",
              "  "
            ]
          },
          "metadata": {},
          "execution_count": 21
        }
      ]
    },
    {
      "cell_type": "markdown",
      "source": [
        "Analisando nossos dados ausentes temos algumas informações interessantes:\n",
        "1. existe apenas um registro que não possui classe, portanto vamos removê-lo.\n",
        "1. existem 6323 registros sem subtítulo que deveremos tratar para que não cause problemas com o modelo."
      ],
      "metadata": {
        "id": "yfyVbNJCmg94"
      }
    },
    {
      "cell_type": "code",
      "source": [
        "df.isnull().sum()"
      ],
      "metadata": {
        "colab": {
          "base_uri": "https://localhost:8080/"
        },
        "id": "PZ-g0J7nmztG",
        "outputId": "a4ac7077-d443-4f37-9c98-198c0cb31b24"
      },
      "execution_count": 22,
      "outputs": [
        {
          "output_type": "execute_result",
          "data": {
            "text/plain": [
              "Titulo         31\n",
              "Subtitulo    6323\n",
              "Noticia         0\n",
              "Categoria       1\n",
              "Data          352\n",
              "Autor          17\n",
              "URL             1\n",
              "Classe          1\n",
              "dtype: int64"
            ]
          },
          "metadata": {},
          "execution_count": 22
        }
      ]
    },
    {
      "cell_type": "code",
      "source": [
        "# exclui linhas cuja classe é null\n",
        "df_clean = df.copy()\n",
        "df_clean = df_clean.dropna(subset=['Classe'])\n",
        "\n",
        "# verifica os valores nulos\n",
        "df_clean.isnull().sum()"
      ],
      "metadata": {
        "colab": {
          "base_uri": "https://localhost:8080/"
        },
        "id": "c0dtkvfJpmgJ",
        "outputId": "5787a4bb-75f9-4e39-bcf2-af01711247fd"
      },
      "execution_count": 23,
      "outputs": [
        {
          "output_type": "execute_result",
          "data": {
            "text/plain": [
              "Titulo         30\n",
              "Subtitulo    6322\n",
              "Noticia         0\n",
              "Categoria       0\n",
              "Data          351\n",
              "Autor          16\n",
              "URL             0\n",
              "Classe          0\n",
              "dtype: int64"
            ]
          },
          "metadata": {},
          "execution_count": 23
        }
      ]
    },
    {
      "cell_type": "markdown",
      "source": [
        "Por fim vamos substituir os valores `NaN` por `''`"
      ],
      "metadata": {
        "id": "2XYXUOh-reuq"
      }
    },
    {
      "cell_type": "code",
      "source": [
        "df_clean = df_clean.fillna(value='')\n",
        "df_clean.isnull().sum()"
      ],
      "metadata": {
        "id": "vjNHbv5Rrlb6",
        "colab": {
          "base_uri": "https://localhost:8080/"
        },
        "outputId": "ba051088-5fb2-46d5-f17a-43ddae40d596"
      },
      "execution_count": 25,
      "outputs": [
        {
          "output_type": "execute_result",
          "data": {
            "text/plain": [
              "Titulo       0\n",
              "Subtitulo    0\n",
              "Noticia      0\n",
              "Categoria    0\n",
              "Data         0\n",
              "Autor        0\n",
              "URL          0\n",
              "Classe       0\n",
              "dtype: int64"
            ]
          },
          "metadata": {},
          "execution_count": 25
        }
      ]
    },
    {
      "cell_type": "markdown",
      "metadata": {
        "id": "h9-5JfsNZv2U"
      },
      "source": [
        "Agora, o que precisamos é separar nossos dados em treino, validação e teste, para que possamos continuar a trilhar o caminho que nos leva ao modelo."
      ]
    },
    {
      "cell_type": "code",
      "metadata": {
        "id": "8qHus0CF0GFy",
        "colab": {
          "base_uri": "https://localhost:8080/"
        },
        "outputId": "a3e5aec0-a719-467a-828c-f191fefba23a"
      },
      "source": [
        "# separando os datasets em treino, validação e teste\n",
        "from sklearn.model_selection import train_test_split\n",
        "\n",
        "train, test = train_test_split(df_clean)\n",
        "train, validation = train_test_split(train, test_size = 0.2)\n",
        "print('Entradas por Dataset')\n",
        "print('Dataset de Treino: ',len(train), 'linhas.')\n",
        "print('Dataset de Validação: ', len(validation), 'linhas.')\n",
        "print('Dataset de Teste: ', len(test), 'linhas.')"
      ],
      "execution_count": 27,
      "outputs": [
        {
          "output_type": "stream",
          "name": "stdout",
          "text": [
            "Entradas por Dataset\n",
            "Dataset de Treino:  7140 linhas.\n",
            "Dataset de Validação:  1786 linhas.\n",
            "Dataset de Teste:  2976 linhas.\n"
          ]
        }
      ]
    },
    {
      "cell_type": "markdown",
      "metadata": {
        "id": "jcX6OD6Ua7DX"
      },
      "source": [
        "### Pré-Processamento de Strings - NLP\n",
        "\n",
        "Aqui neste projeto estamos focando em ***Deep Learning*** e a implementação de **Redes Neurais**, por isso, não iremos nos extender em pré-processamento de Strings.\n",
        "\n",
        "De qualquer forma, esse é um ponto importante do projeto. Aqui, basicamente o que queremos é simplificar o texto, para que seja mais fácil do nosso modelo processar e entender. Por isso, iremos utilizar uma técnica que se chama ***Tokenizing***.\n",
        "\n",
        "Em suma, Tokenizing, ou Tokenização, em tradução livre, é um passo que separa longos textos de strings em pedaços de textos mais curtos, chamados de tokens.\n",
        "\n",
        "<p align=center>\n",
        "  <img src=\"https://www.kdnuggets.com/wp-content/uploads/text-tokens-tokenization-manning.jpg\" height=\"30%\">\n",
        "</p>\n",
        "\n",
        "Para ler mais sobre esse assunto e entender melhor os passos e parâmetros abaixo, deixarei links de referência [aqui](https://www.kdnuggets.com/2017/12/general-approach-preprocessing-text-data.html) e [aqui](https://www.kdnuggets.com/2020/03/tensorflow-keras-tokenization-text-data-prep.html)."
      ]
    },
    {
      "cell_type": "code",
      "metadata": {
        "id": "zYkIA4cs2yD2"
      },
      "source": [
        "# preparando os dados para o modelo\n",
        "from tensorflow.keras.preprocessing.text import Tokenizer\n",
        "from tensorflow.keras.preprocessing.sequence import pad_sequences\n",
        "\n",
        "vocab_size = 10000\n",
        "trunc_type = \"post\"\n",
        "pad_type = \"post\"\n",
        "oov_tok = \"<OOV>\"\n",
        "tokenizer = Tokenizer(num_words = vocab_size, oov_token=oov_tok)\n",
        "tokenizer.fit_on_texts(train['Noticia'])\n",
        "word_index = tokenizer.word_index\n",
        "\n",
        "# aplicando técnicas tokenizing e padding\n",
        "training_sequences = tokenizer.texts_to_sequences(np.array(train['Noticia']))\n",
        "training_padded = pad_sequences(training_sequences,truncating=trunc_type, padding=pad_type)\n",
        "\n",
        "max_length = len(training_padded[0])\n",
        "\n",
        "validation_sequences = tokenizer.texts_to_sequences(np.array(validation['Noticia']))\n",
        "validation_padded = pad_sequences(validation_sequences, padding=pad_type, truncating=trunc_type, maxlen = max_length)\n",
        "\n",
        "# criando arrays com inputs\n",
        "x_train = np.copy(training_padded)\n",
        "x_val = np.copy(validation_padded)\n",
        "y_train = train['Classe'].values\n",
        "y_val = validation['Classe'].values"
      ],
      "execution_count": 31,
      "outputs": []
    },
    {
      "cell_type": "code",
      "metadata": {
        "id": "86bxlEdy28Dz",
        "colab": {
          "base_uri": "https://localhost:8080/"
        },
        "outputId": "39c5a5c7-10ac-4c61-ccc2-9fd35125bbe2"
      },
      "source": [
        "# veriificando o tamanho dos arrays\n",
        "print('Tamanho dos Arrays')\n",
        "print('Treino: ', len(x_train), 'linhas.')\n",
        "print('Resposta: ', len(y_train), 'linhas.')"
      ],
      "execution_count": 32,
      "outputs": [
        {
          "output_type": "stream",
          "name": "stdout",
          "text": [
            "Tamanho dos Arrays\n",
            "Treino:  7140 linhas.\n",
            "Resposta:  7140 linhas.\n"
          ]
        }
      ]
    },
    {
      "cell_type": "markdown",
      "metadata": {
        "id": "smN2S2Btc_9c"
      },
      "source": [
        "### Preparando, Instanciando e Treinando o Modelo\n",
        "\n",
        "Agora que nossos dados estão prontos, é hora de ir ao que interessa.\n",
        "\n",
        "Foi feito um RandomSearch para encontrar os melhores parâmetros, em um processo lento e externo a este notebook, e instanciado um modelo que usa os melhores parâmetros encontrados."
      ]
    },
    {
      "cell_type": "code",
      "metadata": {
        "id": "NaTn3nFONJRQ",
        "colab": {
          "base_uri": "https://localhost:8080/"
        },
        "outputId": "6c869ed4-d856-479f-ac64-d25b3e86c81d"
      },
      "source": [
        "# instanciando e dando fit no modelo\n",
        "model = tf.keras.Sequential([\n",
        "        tf.keras.layers.Embedding(vocab_size, (155), input_length=max_length),\n",
        "        tf.keras.layers.Conv1D(16, 5, activation='relu'),\n",
        "        tf.keras.layers.GlobalMaxPooling1D(),\n",
        "        tf.keras.layers.Dense(1, activation='sigmoid')\n",
        "        ])\n",
        "\n",
        "model.compile(loss='binary_crossentropy',\n",
        "                      optimizer=tf.keras.optimizers.Adam(learning_rate = 0.001), \n",
        "                      metrics=['accuracy'])\n",
        "history = model.fit(x_train, y_train, verbose = 2, epochs = 5, validation_data = (x_val, y_val),\n",
        "                   callbacks=[tf.keras.callbacks.EarlyStopping('val_loss', patience=6)])"
      ],
      "execution_count": 35,
      "outputs": [
        {
          "output_type": "stream",
          "name": "stdout",
          "text": [
            "Epoch 1/5\n",
            "224/224 - 5s - loss: 0.4096 - accuracy: 0.8279 - val_loss: 0.2025 - val_accuracy: 0.9183 - 5s/epoch - 21ms/step\n",
            "Epoch 2/5\n",
            "224/224 - 2s - loss: 0.1374 - accuracy: 0.9524 - val_loss: 0.1616 - val_accuracy: 0.9356 - 2s/epoch - 9ms/step\n",
            "Epoch 3/5\n",
            "224/224 - 2s - loss: 0.0594 - accuracy: 0.9829 - val_loss: 0.1619 - val_accuracy: 0.9406 - 2s/epoch - 9ms/step\n",
            "Epoch 4/5\n",
            "224/224 - 3s - loss: 0.0238 - accuracy: 0.9959 - val_loss: 0.1787 - val_accuracy: 0.9362 - 3s/epoch - 11ms/step\n",
            "Epoch 5/5\n",
            "224/224 - 2s - loss: 0.0112 - accuracy: 0.9982 - val_loss: 0.1913 - val_accuracy: 0.9384 - 2s/epoch - 9ms/step\n"
          ]
        }
      ]
    },
    {
      "cell_type": "markdown",
      "metadata": {
        "id": "9oRImjz7dwFp"
      },
      "source": [
        "\n",
        "Os resultados são bem promissores, apesar de carecerem de uma maior investigação. No entanto, cumpriu o objetivo de demonstrar o poder das Redes Neurais."
      ]
    },
    {
      "cell_type": "code",
      "metadata": {
        "id": "_WpkTU-v-Xn0",
        "colab": {
          "base_uri": "https://localhost:8080/",
          "height": 541
        },
        "outputId": "21c32d51-da34-4386-e4b6-ec453ed51f73"
      },
      "source": [
        "# visualizando os resultados\n",
        "def plot_graphs(history, string):\n",
        "  plt.plot(history.history[string])\n",
        "  plt.plot(history.history['val_'+string])\n",
        "  plt.xlabel(\"Epochs\")\n",
        "  plt.ylabel(string)\n",
        "  plt.legend([string, 'val_'+string])\n",
        "  plt.show()\n",
        "  \n",
        "plot_graphs(history, \"accuracy\")\n",
        "plot_graphs(history, \"loss\")"
      ],
      "execution_count": 36,
      "outputs": [
        {
          "output_type": "display_data",
          "data": {
            "text/plain": [
              "<Figure size 432x288 with 1 Axes>"
            ],
            "image/png": "[encoded data removed]"
          },
          "metadata": {
            "needs_background": "light"
          }
        },
        {
          "output_type": "display_data",
          "data": {
            "text/plain": [
              "<Figure size 432x288 with 1 Axes>"
            ],
            "image/png": "[encoded data removed]"
          },
          "metadata": {
            "needs_background": "light"
          }
        }
      ]
    },
    {
      "cell_type": "markdown",
      "metadata": {
        "id": "9vxL_pl3eUpt"
      },
      "source": [
        "### Fazendo Previsões no Conjunto de Teste\n",
        "\n",
        "Por fim, temos o pipeline ideal para tratar nossos dados, já treinamos, tunamos e obtivemos excelentes resultados em nosso conjunto de validação. Nosso modelo está pronto, mas ele tem mais uma missão a cumprir. \n",
        "\n",
        "Vamos apresentar dados completamente novos a ele, fazer previsõs e ver como ele se sai."
      ]
    },
    {
      "cell_type": "code",
      "metadata": {
        "id": "Z-c_UmotBPdC"
      },
      "source": [
        "# tratando os dados de teste\n",
        "test_sequences = tokenizer.texts_to_sequences(np.array(test['Noticia']))\n",
        "test_padded = pad_sequences(test_sequences, padding=pad_type, truncating=trunc_type, maxlen = max_length)"
      ],
      "execution_count": 37,
      "outputs": []
    },
    {
      "cell_type": "code",
      "metadata": {
        "id": "oOp2M0g_BRsn"
      },
      "source": [
        "# fazendo previsões\n",
        "preds = np.round(model.predict(test_padded))"
      ],
      "execution_count": 38,
      "outputs": []
    },
    {
      "cell_type": "code",
      "metadata": {
        "id": "wh3xySNcBS7q",
        "colab": {
          "base_uri": "https://localhost:8080/"
        },
        "outputId": "4b9ce706-1f89-481a-b36c-fbf58e748642"
      },
      "source": [
        "# conferindo o tamanho do resultado\n",
        "len(preds)"
      ],
      "execution_count": 39,
      "outputs": [
        {
          "output_type": "execute_result",
          "data": {
            "text/plain": [
              "2976"
            ]
          },
          "metadata": {},
          "execution_count": 39
        }
      ]
    },
    {
      "cell_type": "code",
      "metadata": {
        "id": "wgfIj_TjBUb7",
        "colab": {
          "base_uri": "https://localhost:8080/"
        },
        "outputId": "f5c935de-fd28-467e-dc02-394192c07cc6"
      },
      "source": [
        "# verificando a acurácia\n",
        "acc = np.sum(1 if i==j else 0 for i,j in zip(preds, test[\"Classe\"].values)) / len(test)\n",
        "print(\"Accuracy: \", acc )"
      ],
      "execution_count": 41,
      "outputs": [
        {
          "output_type": "stream",
          "name": "stdout",
          "text": [
            "Accuracy:  0.9220430107526881\n"
          ]
        }
      ]
    },
    {
      "cell_type": "markdown",
      "source": [
        "## Conclusão\n",
        "\n",
        "Nesse projeto utilizamos um *dataset* relativamente pequeno dada a dificuldade de encontrar conjuntos de dados para esse tipo de problema no cenário nacional. Mesmo assim conseguimos obter resultados promissores com nosso modelo, mesmo quando apresentamos dados desconhecidos pelo modelo, obtivemos uma acurácia de 92%."
      ],
      "metadata": {
        "id": "fxrjpyX5xJL0"
      }
    },
    {
      "cell_type": "code",
      "metadata": {
        "id": "nQHtl62QBV5Q"
      },
      "source": [
        ""
      ],
      "execution_count": null,
      "outputs": []
    }
  ]
}